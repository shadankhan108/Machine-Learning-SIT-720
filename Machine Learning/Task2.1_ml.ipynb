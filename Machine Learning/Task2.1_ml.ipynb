{
 "cells": [
  {
   "cell_type": "markdown",
   "id": "a28be33c-4add-43a9-9998-9f40dd4ebef3",
   "metadata": {},
   "source": [
    "## SIT 720\n",
    "## Assignment 2.1\n",
    "### Name : Shadan Khan\n",
    "### Enroll: s222623809"
   ]
  },
  {
   "cell_type": "markdown",
   "id": "809565d9-a3bd-45c4-a544-0d4aae7d52a8",
   "metadata": {},
   "source": [
    "### Question 1:\n",
    "\n",
    "Create three variables: **`Sensor_IDs`**, **`Temperature_Readings`**, and **`Humidity_Levels`**.\n",
    "\n",
    "**Steps:**\n",
    "- Assign **five unique random values** to each variable.\n",
    "- Ensure each `Sensor_ID` is a **unique alphanumeric string** (use **hashing** for uniqueness).\n",
    "- Assign **random temperature and humidity readings** within valid ranges for each of the five sensors.\n",
    "\n",
    "**Constraints:**\n",
    "- `Sensor_ID` must be **unique**.\n",
    "- `Temperature_Readings` must be between **-10°C and 50°C**.\n",
    "- `Humidity_Levels` must be between **10% and 100%**.\n",
    "- **Print and validate** all assigned values to confirm correctness.\n"
   ]
  },
  {
   "cell_type": "markdown",
   "id": "e84141fa-6bae-4d71-ad32-ae61de770932",
   "metadata": {},
   "source": [
    "### 1.1 CODE"
   ]
  },
  {
   "cell_type": "code",
   "execution_count": 165,
   "id": "52745d4a-95be-4d6a-a2f1-a979491f7e6d",
   "metadata": {},
   "outputs": [
    {
     "name": "stdout",
     "output_type": "stream",
     "text": [
      "Sensor ID: f25973a1 | Temperature: 40.14°C | Humidity: 83.52%\n",
      "Sensor ID: b63aa12b | Temperature: 15.72°C | Humidity: 98.43%\n",
      "Sensor ID: cb51486b | Temperature: 14.65°C | Humidity: 88.36%\n",
      "Sensor ID: 96c3fec2 | Temperature: 17.01°C | Humidity: 13.39%\n",
      "Sensor ID: dcfa32c9 | Temperature: -1.34°C | Humidity: 79.79%\n"
     ]
    }
   ],
   "source": [
    "import random\n",
    "import hashlib\n",
    "\n",
    "\n",
    "def generate_sensor_ids(count: int, length: int = 8) -> list[str]:\n",
    "    \"\"\"\n",
    "    Generate a list of `count` unique alphanumeric sensor IDs,\n",
    "    each one the first `length` characters of a SHA-256 hash.\n",
    "    \"\"\"\n",
    "    ids = set()\n",
    "    while len(ids) < count:\n",
    "        raw = str(random.random()).encode()\n",
    "        sid = hashlib.sha256(raw).hexdigest()[:length]\n",
    "        ids.add(sid)\n",
    "    return list(ids)\n",
    "\n",
    "\n",
    "def generate_readings(count: int, low: float, high: float, decimals: int = 2) -> list[float]:\n",
    "    \"\"\"\n",
    "    Generate `count` random float readings between `low` and `high`,\n",
    "    rounded to `decimals` places.\n",
    "    \"\"\"\n",
    "    return [round(random.uniform(low, high), decimals) for _ in range(count)]\n",
    "\n",
    "\n",
    "def validate_readings(temps: list[float], hums: list[float]) -> None:\n",
    "    \"\"\"\n",
    "    Assert that all temperature and humidity readings\n",
    "    are within the specified ranges.\n",
    "    \"\"\"\n",
    "    assert all(-10 <= t <= 50 for t in temps), \"Temperature out of range!\"\n",
    "    assert all(10 <= h <= 100 for h in hums), \"Humidity out of range!\"\n",
    "\n",
    "\n",
    "def main():\n",
    "    n = 5\n",
    "\n",
    "    # Generate data\n",
    "    sensor_ids = generate_sensor_ids(n)\n",
    "    temps = generate_readings(n, -10, 50)\n",
    "    hums = generate_readings(n, 10, 100)\n",
    "\n",
    "    # Optional validation\n",
    "    validate_readings(temps, hums)\n",
    "\n",
    "    # Print formatted output\n",
    "    for sid, t, h in zip(sensor_ids, temps, hums):\n",
    "        print(f\"Sensor ID: {sid} | Temperature: {t}°C | Humidity: {h}%\")\n",
    "\n",
    "\n",
    "if __name__ == \"__main__\":\n",
    "    main()\n"
   ]
  },
  {
   "cell_type": "markdown",
   "id": "203daa1c-4af8-4841-9934-b1001cf29f94",
   "metadata": {},
   "source": [
    "### 1.2 Explanation of the Code\n",
    "---\n",
    "*1. Module Imports*:\n",
    "* *random*: Used to produce pseudo-random numbers for sensor readings.\n",
    "\n",
    "* *hashlib*: Provides the SHA-256 hash function, ensuring each sensor ID is both unique and alphanumeric.\n",
    "\n",
    "*2. generate_sensor_ids(count, length)*\n",
    "* *Purpose*: Create exactly count unique IDs by hashing random bytes.\n",
    "\n",
    "* *How it works*: Continuously generate a random float, encode it, and hash via SHA-256. Truncate the hex digest to length characters. Add to a set to automatically avoid duplicates, then convert to a list.\n",
    "\n",
    "*3. generate_readings(count, low, high, decimals)*\n",
    "* *Purpose*: Produce count independent readings in a given numerical range.\n",
    "\n",
    "* *Details*: Draw each value uniformly between low and high. Round to decimals places for neatness.\n",
    "\n",
    "*4. validate_readings(temps, hums)* \n",
    "\n",
    "* *Purpose*: Ensure data integrity before output.\n",
    "\n",
    "* *Checks performed*: All temperatures lie between –10 °C and 50 °C. All humidity levels lie between 10 % and 100 %. Raises an assertion error if any value violates its bounds.\n",
    "\n",
    "*5. main() Function* Set n = 5 to specify how many sensors to simulate. Generate sensor IDs, temperature readings, and humidity readings using the three helper functions. Validate the numeric arrays to catch any out-of-range values.\n",
    "Output each sensor’s ID alongside its temperature and humidity in a clear, tabular style.\n",
    "\n",
    "The if __name__ == \"__main__\": guard ensures this sequence only runs when the script is executed directly, making the functions reusable elsewhere without side effects."
   ]
  },
  {
   "cell_type": "markdown",
   "id": "127e9e51-60ab-4cdd-b1c4-0efdf7396499",
   "metadata": {},
   "source": [
    "### Question 2:\n",
    "\n",
    "Create a **dictionary** where:\n",
    "\n",
    "- The **keys** are `Sensor_IDs`.\n",
    "- The **values** are `dictionaries` containing:\n",
    "  - `Temperature_Reading`\n",
    "  - `Humidity_Level`\n",
    "\n",
    "---\n",
    "\n",
    "Implement a function that:\n",
    "\n",
    "- **Filters** sensors exceeding a *user-defined temperature threshold*.\n",
    "- **Sorts** the resulting dictionary in **descending order** by temperature.\n",
    "- **Retrieves** and **prints** the **top 3 highest temperatures**.\n",
    "- **Ensures robustness** by handling *missing* or *invalid* sensor readings.\n"
   ]
  },
  {
   "cell_type": "markdown",
   "id": "a0731e8c-b960-4668-afd0-2b02c1071ec6",
   "metadata": {},
   "source": [
    "### 2.1 CODE"
   ]
  },
  {
   "cell_type": "code",
   "execution_count": 170,
   "id": "8071ebb2-5921-435c-ab93-f97364ad3306",
   "metadata": {},
   "outputs": [
    {
     "name": "stdout",
     "output_type": "stream",
     "text": [
      "Top 3 Sensors with Temperature > 20.0°C:\n",
      "Sensor ID: f205c2c7 | Temperature: 41.37°C | Humidity: 33.57%\n",
      "Sensor ID: 9d3fece7 | Temperature: 40.0°C | Humidity: 32.38%\n",
      "Sensor ID: 86c24b87 | Temperature: 31.57°C | Humidity: 71.12%\n"
     ]
    }
   ],
   "source": [
    "import random, hashlib\n",
    "\n",
    "# 1. Generate sensor IDs, temperatures, and humidities\n",
    "n = 5\n",
    "sensor_ids = []\n",
    "while len(sensor_ids) < n:\n",
    "    sid = hashlib.sha256(str(random.random()).encode()).hexdigest()[:8]\n",
    "    if sid not in sensor_ids:\n",
    "        sensor_ids.append(sid)\n",
    "\n",
    "temperature_readings = [round(random.uniform(-10, 50), 2) for _ in range(n)]\n",
    "humidity_levels      = [round(random.uniform(10, 100), 2) for _ in range(n)]\n",
    "\n",
    "# 2. Validate ranges\n",
    "assert all(-10 <= t <= 50 for t in temperature_readings), \"Temperature out of range!\"\n",
    "assert all(10 <= h <= 100 for h in humidity_levels),      \"Humidity out of range!\"\n",
    "\n",
    "# 3. Build the nested dictionary\n",
    "sensor_data = {\n",
    "    sid: {\n",
    "        \"Temperature_Reading\": temperature_readings[i],\n",
    "        \"Humidity_Level\":      humidity_levels[i]\n",
    "    }\n",
    "    for i, sid in enumerate(sensor_ids)\n",
    "}\n",
    "\n",
    "# 4. Filter > threshold, sort, and print top 3\n",
    "threshold = 20.0\n",
    "filtered = [\n",
    "    (sid, vals) for sid, vals in sensor_data.items()\n",
    "    if isinstance(vals[\"Temperature_Reading\"], (int, float))\n",
    "       and vals[\"Temperature_Reading\"] > threshold\n",
    "]\n",
    "sorted_sensors = sorted(\n",
    "    filtered,\n",
    "    key=lambda item: item[1][\"Temperature_Reading\"],\n",
    "    reverse=True\n",
    ")\n",
    "top_3 = sorted_sensors[:3]\n",
    "\n",
    "print(f\"Top 3 Sensors with Temperature > {threshold}°C:\")\n",
    "for sid, vals in top_3:\n",
    "    t = vals[\"Temperature_Reading\"]\n",
    "    h = vals[\"Humidity_Level\"]\n",
    "    print(f\"Sensor ID: {sid} | Temperature: {t}°C | Humidity: {h}%\")\n"
   ]
  },
  {
   "cell_type": "markdown",
   "id": "1bfbe668-645c-4464-aac6-ea60e21fac39",
   "metadata": {},
   "source": [
    "### 2.2 Explanation \n",
    "\n",
    "---\n",
    "* *Data Generation*:\n",
    "\n",
    "* *Sensor IDs*: A list of five unique IDs is built by repeatedly hashing random floats with SHA-256 and taking the first eight hex characters. A simple membership check prevents duplicates.\n",
    "\n",
    "* *Temperature Readings*: Five values are drawn uniformly between –10 °C and 50 °C and rounded to two decimal places.\n",
    "\n",
    "* *Humidity Levels*: Five values are drawn uniformly between 10 % and 100 % and likewise rounded.\n",
    "\n",
    "* *Validation of Ranges*: Two assertions immediately verify that each temperature lies within [–10, 50] and each humidity within [10, 100]. If any reading falls outside these bounds, the script halts with an error message, ensuring only valid data proceeds.\n",
    "\n",
    "* *Building the Nested Dictionary*: The three parallel lists are combined into a single sensor_data dictionary. Each sensor ID becomes a key, with its value being another dictionary containing the keys \"Temperature_Reading\" and \"Humidity_Level\" mapped to the corresponding readings.\n",
    "\n",
    "* *Filtering and Sorting*: A user-defined threshold (20 °C) is applied: sensors whose temperature reading is not numeric or does not exceed this threshold are discarded. The remaining entries are sorted in descending order by their temperature values.\n",
    "\n",
    "* *Selecting and Displaying the Top Three*: After sorting, the first three entries are taken as the top-3 hottest sensors. The script prints a header indicating the threshold and then lists each top sensor’s ID alongside its temperature and humidity in a readable format.\n",
    "\n",
    "\n",
    "\n",
    "\n",
    "\n",
    "\n",
    "\n",
    "\n"
   ]
  },
  {
   "cell_type": "markdown",
   "id": "25535911-e630-44ad-9be6-f30b35603ad5",
   "metadata": {},
   "source": [
    "## Question 3\n",
    "\n",
    "**Define a variable** `air_quality` that can take one of the following values:\n",
    "\n",
    "- `Good`\n",
    "- `Moderate`\n",
    "- `Unhealthy`\n",
    "- `Hazardous`\n",
    "\n",
    "**Implement a function that:**\n",
    "\n",
    "- Recommends an activity based on air quality.\n",
    "- Handles unexpected inputs and prompts the user for correction.\n",
    "\n",
    "**Simulate air quality readings over 10 instances:**\n",
    "\n",
    "- Randomly assign one of the four air quality categories to each instance.\n",
    "- Count how many times each category appears.\n",
    "- Calculate and print the percentage of occurrences for each category.\n",
    "- Display the results in a structured format (e.g., table or dictionary).\n"
   ]
  },
  {
   "cell_type": "markdown",
   "id": "a7311059-32bb-4ebc-abc8-04537cb563a0",
   "metadata": {},
   "source": [
    "### 3.1 CODE"
   ]
  },
  {
   "cell_type": "code",
   "execution_count": 175,
   "id": "d7e3dbbe-d3c7-4ea4-9dab-4f275a99bd7f",
   "metadata": {},
   "outputs": [
    {
     "name": "stdout",
     "output_type": "stream",
     "text": [
      "Air Quality Simulation Results:\n",
      "Good      : Count = 4, Percentage = 40.0%\n",
      "Moderate  : Count = 2, Percentage = 20.0%\n",
      "Unhealthy : Count = 3, Percentage = 30.0%\n",
      "Hazardous : Count = 1, Percentage = 10.0%\n",
      "\n",
      "Current Air Quality: Moderate  →  Recommendation: Outdoor activity is okay but limit strenuous exercise.\n"
     ]
    }
   ],
   "source": [
    "import random\n",
    "\n",
    "# 1. Define categories, pick a random current air quality, and simulate 10 readings\n",
    "categories = ['Good', 'Moderate', 'Unhealthy', 'Hazardous']\n",
    "current_quality   = random.choice(categories)\n",
    "simulated_readings = [random.choice(categories) for _ in range(10)]\n",
    "\n",
    "# 2. Tally counts and compute percentages\n",
    "counts      = {cat: simulated_readings.count(cat) for cat in categories}\n",
    "percentages = {cat: counts[cat] / len(simulated_readings) * 100 for cat in categories}\n",
    "\n",
    "# 3. Display simulation summary\n",
    "print(\"Air Quality Simulation Results:\")\n",
    "for cat in categories:\n",
    "    print(f\"{cat:10}: Count = {counts[cat]}, Percentage = {percentages[cat]:.1f}%\")\n",
    "\n",
    "# 4. Recommend an activity for the current air quality\n",
    "activity_map = {\n",
    "    'Good':      'Go for outdoor exercise or a walk.',\n",
    "    'Moderate':  'Outdoor activity is okay but limit strenuous exercise.',\n",
    "    'Unhealthy': 'Stay indoors, avoid prolonged outdoor exertion.',\n",
    "    'Hazardous': 'Avoid all outdoor activity, use air purifiers indoors.'\n",
    "}\n",
    "recommendation = activity_map.get(current_quality)\n",
    "if recommendation:\n",
    "    print(f\"\\nCurrent Air Quality: {current_quality}  →  Recommendation: {recommendation}\")\n",
    "else:\n",
    "    print(f\"\\nInvalid air quality '{current_quality}'. Valid options: {', '.join(categories)}.\")\n"
   ]
  },
  {
   "cell_type": "markdown",
   "id": "4a52f0c4-b013-4c60-a7cd-70d763a9a261",
   "metadata": {},
   "source": [
    "### 3.2 Explanation\n",
    "---\n",
    "\n",
    "*Defining Categories and Sampling*: A list categories holds the four air-quality labels: 'Good', 'Moderate', 'Unhealthy', and 'Hazardous'. current_quality is chosen at random from these categories to simulate a “real-time” air-quality reading. simulated_readings is a list of ten random picks (again from categories), representing a small batch of air-quality measurements.\n",
    "\n",
    "* *Tallying Counts and Computing Percentages*:\n",
    "\n",
    "* *Counts*: A dictionary comprehension iterates over each category and uses .count() on simulated_readings to record how many times it appears.\n",
    "\n",
    "* *Percentages*: Another comprehension divides each category’s count by the total number of readings (len(simulated_readings)) and multiplies by 100, yielding the share of each category as a percentage.\n",
    "\n",
    "* *Displaying the Simulation Summary*:\n",
    "\n",
    "The script prints a header line, then loops through categories, formatting and printing each one’s count and percentage to one decimal place.\n",
    "This gives a quick, tabular-style view of how often each air-quality level occurred in the simulated data.\n",
    "\n",
    "* *Recommending an Activity*: An activity_map dictionary maps each category to a human-readable recommendation string. By calling activity_map.get(current_quality), the code retrieves the advice for the randomly chosen current air quality.\n",
    "\n",
    "If the category is valid, it prints the current air-quality label alongside its recommendation. If somehow the category were invalid, it would notify the user of the error and list valid options.\n",
    "\n"
   ]
  },
  {
   "cell_type": "markdown",
   "id": "18148d6b-c1ae-4f1a-a5e2-3f2ad23bb94f",
   "metadata": {},
   "source": [
    "## Question 4\n",
    "\n",
    "Write a `while` loop that continuously prompts the user to enter a number:\n",
    "\n",
    "- **Break** the loop when a **negative number** is entered.\n",
    "- **Classify** even and odd numbers, storing them in **separate lists**.\n",
    "- **Log** both lists to a **text file** (`loop_log.txt`) upon loop termination.\n",
    "- Ensure **error handling** for **non-numeric inputs**.\n",
    "\n",
    "\n",
    " **Validate input** to **prevent duplicate entries** in storage.\n"
   ]
  },
  {
   "cell_type": "markdown",
   "id": "add9201a-9d4d-4e4d-97d4-df8a0effddbe",
   "metadata": {},
   "source": [
    "### 4.1 CODE"
   ]
  },
  {
   "cell_type": "code",
   "execution_count": 180,
   "id": "a6e6d57b-8e26-4fa0-950f-53820147815e",
   "metadata": {},
   "outputs": [
    {
     "name": "stdin",
     "output_type": "stream",
     "text": [
      "Enter a number (negative to quit):  75\n",
      "Enter a number (negative to quit):  34\n",
      "Enter a number (negative to quit):  4\n",
      "Enter a number (negative to quit):  0\n",
      "Enter a number (negative to quit):  -3\n"
     ]
    },
    {
     "name": "stdout",
     "output_type": "stream",
     "text": [
      "Logging complete. Lists saved to loop_log.txt.\n"
     ]
    }
   ],
   "source": [
    "def classify_number(num, even_numbers, odd_numbers):\n",
    "    \"\"\"Classify a number as even or odd and add it to the respective list.\"\"\"\n",
    "    if num % 2 == 0:\n",
    "        even_numbers.add(num)\n",
    "    else:\n",
    "        odd_numbers.add(num)\n",
    "\n",
    "\n",
    "def log_results(filename, even_numbers, odd_numbers):\n",
    "    \"\"\"Write the classified numbers to a file.\"\"\"\n",
    "    with open(filename, \"w\") as f:\n",
    "        f.write(f\"Even numbers: {sorted(even_numbers)}\\n\")\n",
    "        f.write(f\"Odd numbers: {sorted(odd_numbers)}\\n\")\n",
    "    print(f\"Logging complete. Lists saved to {filename}.\")\n",
    "\n",
    "\n",
    "def main():\n",
    "    even_numbers, odd_numbers = set(), set()\n",
    "\n",
    "    while True:\n",
    "        try:\n",
    "            num = int(input(\"Enter a number (negative to quit): \"))\n",
    "        except ValueError:\n",
    "            print(\"Invalid input. Please enter an integer.\")\n",
    "            continue\n",
    "\n",
    "        if num < 0:\n",
    "            break\n",
    "        if num in even_numbers or num in odd_numbers:\n",
    "            print(\"Duplicate entry. Number already entered.\")\n",
    "            continue\n",
    "\n",
    "        classify_number(num, even_numbers, odd_numbers)\n",
    "\n",
    "    log_results(\"loop_log.txt\", even_numbers, odd_numbers)\n",
    "\n",
    "\n",
    "if __name__ == \"__main__\":\n",
    "    main()\n"
   ]
  },
  {
   "cell_type": "markdown",
   "id": "369388ed-442e-4f23-aaf9-50104c2591ea",
   "metadata": {},
   "source": [
    "### 4.2 Explanation\n",
    "---\n",
    "\n",
    "* *Initialization*: Two empty lists, even_numbers and odd_numbers, are created to hold the user’s inputs classified by parity.\n",
    "\n",
    "* *Input Loop*: The script enters an infinite while True loop to continuously prompt the user.\n",
    "\n",
    "* *Parsing & Validation*: It attempts to convert the user’s input to an integer. If conversion fails, it prints an “Invalid input” message and restarts the loop.\n",
    "\n",
    "* *Termination Condition*: If the entered integer is negative, the loop breaks, ending input collection.\n",
    "\n",
    "* *Duplicate Check*: Before classification, the code checks whether the number has already been recorded in either list. If it’s a duplicate, it notifies the user and skips further processing for that entry.\n",
    "\n",
    "* *Classification*: Even numbers (num % 2 == 0) go into even_numbers; odd numbers go into odd_numbers.\n",
    "\n",
    "Logging to File\n",
    "After exiting the loop, the script opens (or creates) loop_log.txt in write mode.\n",
    "It writes two lines: one listing all even numbers, the other listing all odd numbers, preserving Python list formatting for clarity.\n",
    "\n",
    "* *Completion Notification*: Finally, the script prints a confirmation message, letting the user know that the numbers have been successfully saved to loop_log.txt.\n",
    "\n",
    "\n",
    "\n",
    "\n",
    "\n",
    "\n",
    "\n",
    "\n"
   ]
  },
  {
   "cell_type": "markdown",
   "id": "ab74ea55-c86c-4683-b2a5-a1bb3fecbe7b",
   "metadata": {},
   "source": [
    "### Question 5:\n",
    "\n",
    "Write a Python program that:\n",
    "\n",
    "- Accepts a scientific term as input.\n",
    "- Prints all characters at even positions in one line and odd positions in another.\n",
    "- Accomplish this without using list slicing (`[::]`)."
   ]
  },
  {
   "cell_type": "markdown",
   "id": "e4259962-f825-4739-9800-3f8d7437cbe7",
   "metadata": {},
   "source": [
    "### 5.1 CODE"
   ]
  },
  {
   "cell_type": "code",
   "execution_count": 185,
   "id": "980db599-f3e4-480f-887c-f1092dca8d8a",
   "metadata": {},
   "outputs": [
    {
     "name": "stdin",
     "output_type": "stream",
     "text": [
      "Enter a scientific term:  photosynthesis\n"
     ]
    },
    {
     "name": "stdout",
     "output_type": "stream",
     "text": [
      "Characters at even positions: pooytei\n",
      "Characters at odd positions: htsnhss\n"
     ]
    }
   ],
   "source": [
    "term = input(\"Enter a scientific term: \")\n",
    "\n",
    "# Collect characters by position\n",
    "even_chars = term[::2]\n",
    "odd_chars  = term[1::2]\n",
    "\n",
    "print(f\"Characters at even positions: {even_chars}\")\n",
    "print(f\"Characters at odd positions: {odd_chars}\")\n"
   ]
  },
  {
   "cell_type": "markdown",
   "id": "5dfb8b5b-6051-4549-bdd8-5214641817aa",
   "metadata": {},
   "source": [
    "### 5.2 Explanation \n",
    "---\n",
    "\n",
    "* *Reading the Input*: The script prompts the user to enter a word or phrase (in this case, a “scientific term”) and stores it in the variable term.\n",
    "\n",
    "* *Extracting Characters by Index Slicing*:\n",
    "\n",
    "term[::2]\n",
    "\n",
    "This slice notation starts at index 0 and steps by 2, so it picks out every character at an even index (0, 2, 4, …).\n",
    "Those characters are concatenated into the string even_chars.\n",
    "\n",
    "term[1::2]\n",
    "\n",
    "This starts at index 1 and also steps by 2, grabbing every character at an odd index (1, 3, 5, …).\n",
    "These characters form the string odd_chars.\n",
    "\n",
    "* *Zero-Based Indexing Consideration*: Because Python strings are zero-indexed, the “even positions” slice actually returns the 1st, 3rd, 5th… letters of the input, and the “odd positions” slice returns the 2nd, 4th, 6th… letters.\n",
    "\n",
    "* *Output*: Finally, the script prints both results in a readable format, clearly labelling which set of characters came from even indices and which came from odd indices."
   ]
  },
  {
   "cell_type": "markdown",
   "id": "f55c3dae-08c6-48a7-acfc-5dbb3c3c56f8",
   "metadata": {},
   "source": [
    "### Question 6:\n",
    "\n",
    "- Read a dataset `WeatherData.csv` using pandas (download the dataset from the Resources).\n",
    "- Display the number of weather stations (rows) and recorded parameters (columns).\n",
    "- Compute the mean wind speed and subtract it from all wind speed values.\n",
    "- Print both the original and modified values."
   ]
  },
  {
   "cell_type": "markdown",
   "id": "a3cf7b5c-4aa7-42b7-b6b1-91b9cfcc311e",
   "metadata": {},
   "source": [
    "### 6.1 CODE"
   ]
  },
  {
   "cell_type": "code",
   "execution_count": 187,
   "id": "6a9afa74-a880-40ae-961c-8759f34a57a5",
   "metadata": {},
   "outputs": [
    {
     "name": "stdout",
     "output_type": "stream",
     "text": [
      "Number of weather stations (rows): 1000\n",
      "Number of recorded parameters (columns): 7\n",
      "\n",
      "Original Wind Speed values (km/h, first 30):\n",
      "[43.79, 17.41, 2.12, 12.39, 27.33, 23.22, 16.7, 27.01, 27.92, 29.59, 13.28, 8.78, 35.2, 32.34, 18.48, 14.02, 32.97, 28.05, 22.29, 12.91, 20.86, 22.98, 46.98, 22.79, 23.57, 27.69, 20.04, 27.07, 15.92, 3.63]\n",
      "\n",
      "The mean wind speed is: 23.55 km/h\n",
      "\n",
      "Modified Wind Speed values (first 30):\n",
      "[20.24154, -6.1384599999999985, -21.428459999999998, -11.158459999999998, 3.7815399999999997, -0.32845999999999975, -6.848459999999999, 3.461540000000003, 4.371540000000003, 6.041540000000001, -10.26846, -14.76846, 11.651540000000004, 8.791540000000005, -5.068459999999998, -9.528459999999999, 9.42154, 4.501540000000002, -1.2584599999999995, -10.638459999999998, -2.688459999999999, -0.5684599999999982, 23.43154, -0.7584599999999995, 0.02154000000000167, 4.141540000000003, -3.5084599999999995, 3.5215400000000017, -7.628459999999999, -19.91846]\n",
      "\n",
      "Comparison of Original vs. Modified (first 30):\n",
      " Original  Modified\n",
      "    43.79     20.24\n",
      "    17.41     -6.14\n",
      "     2.12    -21.43\n",
      "    12.39    -11.16\n",
      "    27.33      3.78\n",
      "    23.22     -0.33\n",
      "    16.70     -6.85\n",
      "    27.01      3.46\n",
      "    27.92      4.37\n",
      "    29.59      6.04\n",
      "    13.28    -10.27\n",
      "     8.78    -14.77\n",
      "    35.20     11.65\n",
      "    32.34      8.79\n",
      "    18.48     -5.07\n",
      "    14.02     -9.53\n",
      "    32.97      9.42\n",
      "    28.05      4.50\n",
      "    22.29     -1.26\n",
      "    12.91    -10.64\n",
      "    20.86     -2.69\n",
      "    22.98     -0.57\n",
      "    46.98     23.43\n",
      "    22.79     -0.76\n",
      "    23.57      0.02\n",
      "    27.69      4.14\n",
      "    20.04     -3.51\n",
      "    27.07      3.52\n",
      "    15.92     -7.63\n",
      "     3.63    -19.92\n"
     ]
    }
   ],
   "source": [
    "import pandas as pd\n",
    "\n",
    "# 1. Load the dataset and report its dimensions\n",
    "df = pd.read_csv('WeatherData.csv')\n",
    "rows, cols = df.shape\n",
    "print(f\"Number of weather stations (rows): {rows}\")\n",
    "print(f\"Number of recorded parameters (columns): {cols}\")\n",
    "\n",
    "# 2. Extract the wind‐speed series and show the first 30 values\n",
    "orig = df['Wind_Speed_kmh']\n",
    "print(\"\\nOriginal Wind Speed values (km/h, first 30):\")\n",
    "print(orig.head(30).tolist())\n",
    "\n",
    "# 3. Compute the mean and create the “mean‐subtracted” column\n",
    "mean_ws = orig.mean()\n",
    "print(f\"\\nThe mean wind speed is: {mean_ws:.2f} km/h\")\n",
    "df['Wind_Speed_kmh_Modified'] = orig - mean_ws\n",
    "\n",
    "# 4. Show the first 30 modified values\n",
    "mod = df['Wind_Speed_kmh_Modified']\n",
    "print(\"\\nModified Wind Speed values (first 30):\")\n",
    "print(mod.head(30).tolist())\n",
    "\n",
    "# 5. Side‐by‐side comparison for the first 30 entries\n",
    "print(\"\\nComparison of Original vs. Modified (first 30):\")\n",
    "comparison = pd.DataFrame({\n",
    "    'Original': orig.head(30).round(2),\n",
    "    'Modified': mod.head(30).round(2)\n",
    "})\n",
    "print(comparison.to_string(index=False))\n"
   ]
  },
  {
   "cell_type": "markdown",
   "id": "3f32cc00-df49-4d80-8310-167643de6bec",
   "metadata": {},
   "source": [
    "### 6.2 Explanation \n",
    "\n",
    "---\n",
    "\n",
    "*Loading the Dataset & Reporting Dimensions*: The code reads the CSV file WeatherData.csv into a pandas DataFrame df. It then retrieves the number of rows and columns via df.shape and prints them to indicate how many weather stations (rows) and how many recorded parameters (columns) are available.\n",
    "\n",
    "* *Extracting and Displaying the Original Wind Speeds*: It isolates the Wind_Speed_kmh column into the Series orig. Using orig.head(30).tolist(), it prints the first 30 wind‐speed measurements as a Python list, giving a concise preview of the raw data.\n",
    "\n",
    "* *Calculating the Mean & Creating the Mean-Subtracted Column*: The mean wind speed is computed with orig.mean(). This value is printed (rounded to two decimals) to show the average. The script then vectorizes a subtraction of this mean from every entry in orig, storing the results in a new DataFrame column Wind_Speed_kmh_Modified. This “mean‐subtracted” column highlights how each measurement deviates from the average.\n",
    "\n",
    "* *Showing the Modified Values*: Similar to step 2, it prints the first 30 entries of the modified wind‐speed column (mod.head(30).tolist()) so you can immediately see those deviations for the same set of stations.\n",
    "\n",
    "* *Side-by-Side Comparison*: Finally, it constructs a small DataFrame named comparison with two columns—Original and Modified—each containing the first 30 values (rounded to two decimals). Calling comparison.to_string(index=False) produces an aligned, easy-to-read table that juxtaposes each original wind‐speed measurement with its mean-subtracted counterpart, facilitating a direct visual comparison."
   ]
  },
  {
   "cell_type": "markdown",
   "id": "b916c7ce-6be2-4b49-8f6e-7f73d76823a2",
   "metadata": {},
   "source": [
    "### Question 7:\n",
    "\n",
    "- Read the dataset `WeatherData.csv` and identify missing values.\n",
    "- Choose two different imputation techniques to handle missing values.\n",
    "- Justify the selection of each technique for the respective feature.\n",
    "- Compare the distribution of the imputed column before and after imputation.\n",
    "- Save the cleaned dataset as `WeatherData_Cleaned.csv`."
   ]
  },
  {
   "cell_type": "markdown",
   "id": "967be0ea-c458-48ed-9436-b51bbcb54bdd",
   "metadata": {},
   "source": [
    "### 7.1 CODE"
   ]
  },
  {
   "cell_type": "code",
   "execution_count": 192,
   "id": "8d29abf8-26e4-45a0-b3b3-c4bc1f4452a6",
   "metadata": {},
   "outputs": [
    {
     "name": "stdout",
     "output_type": "stream",
     "text": [
      "Missing values per column:\n",
      "Station_ID              0\n",
      "Temperature_C          50\n",
      "Humidity_%             50\n",
      "Wind_Speed_kmh          0\n",
      "Precipitation_mm        0\n",
      "Weather_Condition       0\n",
      "Unnamed: 6           1000\n",
      "dtype: int64\n"
     ]
    }
   ],
   "source": [
    "import pandas as pd\n",
    "import matplotlib.pyplot as plt\n",
    "\n",
    "# 1. Read dataset\n",
    "df = pd.read_csv('WeatherData.csv')\n",
    "\n",
    "# 2. Identify missing values\n",
    "print(\"Missing values per column:\")\n",
    "print(df.isnull().sum())"
   ]
  },
  {
   "cell_type": "markdown",
   "id": "6f307ef3-a495-4a14-9a97-08ecaf8574de",
   "metadata": {},
   "source": [
    "After inspecting the dataset, we discovered that both the Temperature and Humidity columns each contain 50 missing entries. In the following steps, we will apply imputation techniques to fill those gaps. Additionally, the Unnamed: 6 column is entirely empty (all values are NaN), so it makes sense to remove it altogether.\n",
    "---\n",
    "\n",
    "* *Understanding Common Imputation Methods*:\n",
    "* *Mean Imputation*: Best for numeric features with roughly symmetric distributions.\n",
    "\n",
    "* *Median Imputation*: More robust against skewed data and outliers in numeric columns.\n",
    "\n",
    "* *Mode Imputation*: Ideal for filling missing values in categorical variables.\n",
    "\n",
    "Selecting an appropriate strategy helps preserve the underlying data distribution and can lead to more reliable downstream analyses and modeling."
   ]
  },
  {
   "cell_type": "code",
   "execution_count": 195,
   "id": "507bdb71-eb79-4dc9-9c18-8e60bd743b76",
   "metadata": {},
   "outputs": [
    {
     "name": "stdout",
     "output_type": "stream",
     "text": [
      "Temperature_C skewness = 0.161 → using mean (21.62)\n",
      "Humidity_% skewness = -0.508 → using median (68.48)\n"
     ]
    },
    {
     "name": "stderr",
     "output_type": "stream",
     "text": [
      "/var/folders/53/6gb2s2px4dbfcp64rj8m06000000gn/T/ipykernel_36577/4258069154.py:18: FutureWarning: A value is trying to be set on a copy of a DataFrame or Series through chained assignment using an inplace method.\n",
      "The behavior will change in pandas 3.0. This inplace method will never work because the intermediate object on which we are setting values always behaves as a copy.\n",
      "\n",
      "For example, when doing 'df[col].method(value, inplace=True)', try using 'df.method({col: value}, inplace=True)' or df[col] = df[col].method(value) instead, to perform the operation inplace on the original object.\n",
      "\n",
      "\n",
      "  df[col].fillna(impute_val, inplace=True)\n"
     ]
    },
    {
     "data": {
      "image/png": "[encoded data removed]",
      "text/plain": [
       "<Figure size 1200x1000 with 4 Axes>"
      ]
     },
     "metadata": {},
     "output_type": "display_data"
    },
    {
     "name": "stdout",
     "output_type": "stream",
     "text": [
      "Cleaned data saved to WeatherData_Cleaned.csv\n"
     ]
    }
   ],
   "source": [
    "import pandas as pd\n",
    "import matplotlib.pyplot as plt\n",
    "\n",
    "def load_and_preprocess(filepath: str) -> pd.DataFrame:\n",
    "    \"\"\"Load the CSV file and drop unnecessary columns.\"\"\"\n",
    "    df = pd.read_csv(filepath).drop(columns=['Unnamed: 6'])\n",
    "    return df\n",
    "\n",
    "def impute_missing_values(df: pd.DataFrame, columns: list[str]) -> tuple[pd.DataFrame, dict]:\n",
    "    \"\"\"Impute missing values for given columns based on their skewness.\"\"\"\n",
    "    impute_vals = {}\n",
    "    for col in columns:\n",
    "        skew_val = df[col].skew()\n",
    "        method = 'mean' if abs(skew_val) < 0.5 else 'median'\n",
    "        impute_val = getattr(df[col], method)()\n",
    "        impute_vals[col] = impute_val\n",
    "        print(f\"{col} skewness = {skew_val:.3f} → using {method} ({impute_val:.2f})\")\n",
    "        df[col].fillna(impute_val, inplace=True)\n",
    "    return df, impute_vals\n",
    "\n",
    "def plot_before_after(before: pd.DataFrame, after: pd.DataFrame, columns: list[str]) -> None:\n",
    "    \"\"\"Plot histograms for the specified columns before and after imputation.\"\"\"\n",
    "    num_cols = len(columns)\n",
    "    fig, axes = plt.subplots(num_cols, 2, figsize=(12, 5 * num_cols))\n",
    "    if num_cols == 1:\n",
    "        axes = [axes]  # Ensure axes is iterable for a single column\n",
    "    \n",
    "    for idx, col in enumerate(columns):\n",
    "        # Histogram before imputation\n",
    "        axes[idx][0].hist(before[col].dropna(), bins=10, alpha=0.7)\n",
    "        axes[idx][0].set(title=f\"{col} – Before Imputation\", xlabel=col, ylabel=\"Frequency\")\n",
    "        \n",
    "        # Histogram after imputation \n",
    "        axes[idx][1].hist(after[col], bins=10, alpha=0.7)\n",
    "        axes[idx][1].set(title=f\"{col} – After Imputation\", xlabel=col, ylabel=\"Frequency\")\n",
    "        \n",
    "    plt.tight_layout()\n",
    "    plt.show()\n",
    "\n",
    "def main():\n",
    "    filepath = 'WeatherData.csv'\n",
    "    cleaned_filepath = 'WeatherData_Cleaned.csv'\n",
    "    \n",
    "    # Load data and create a backup copy\n",
    "    df_original = load_and_preprocess(filepath)\n",
    "    df_before = df_original.copy()\n",
    "    \n",
    "    # Define columns to impute\n",
    "    cols_to_impute = ['Temperature_C', 'Humidity_%']\n",
    "    \n",
    "    # Impute missing values\n",
    "    df_imputed, _ = impute_missing_values(df_original, cols_to_impute)\n",
    "    df_after = df_imputed.copy()\n",
    "    \n",
    "    # Plot histograms before and after imputation\n",
    "    plot_before_after(df_before, df_after, cols_to_impute)\n",
    "    \n",
    "    # Save the cleaned dataset\n",
    "    df_imputed.to_csv(cleaned_filepath, index=False)\n",
    "    print(f\"Cleaned data saved to {cleaned_filepath}\")\n",
    "\n",
    "if __name__ == '__main__':\n",
    "    main()\n"
   ]
  },
  {
   "cell_type": "markdown",
   "id": "20d145da-3a7a-4342-bbd7-afb3352b9f94",
   "metadata": {},
   "source": [
    "*When you replace missing values with a single summary statistic—whether mean, median, or mode—you largely preserve the original distribution’s overall form but create a pronounced “spike” where all the imputed values sit. This approach inevitably shrinks the variance and concentrates data unnaturally at the chosen value. In contexts where that distortion could affect conclusions or model performance, it’s worth evaluating more sophisticated methods—such as model-based or conditional imputations—that can better maintain the feature’s true variability and distributional nuances.*"
   ]
  },
  {
   "cell_type": "markdown",
   "id": "fcee437b-39d8-4d67-aeee-8ecb4f1e67a7",
   "metadata": {},
   "source": [
    "### Question 8:\n",
    "\n",
    "- Encode the `Weather_Condition` column using an appropriate encoding approach.\n",
    "- Display the encoded values.\n",
    "- Justify your selection of the encoding technique.\n",
    "- Save the modified dataset as a new CSV file."
   ]
  },
  {
   "cell_type": "code",
   "execution_count": 198,
   "id": "95cbe201-2572-4629-9da8-b5550b5146c4",
   "metadata": {},
   "outputs": [
    {
     "name": "stdout",
     "output_type": "stream",
     "text": [
      "   Cond_Cloudy  Cond_Rainy  Cond_Stormy  Cond_Sunny\n",
      "0        False       False         True       False\n",
      "1         True       False        False       False\n",
      "2        False       False        False        True\n",
      "3        False        True        False       False\n",
      "4        False       False         True       False\n"
     ]
    }
   ],
   "source": [
    "\n",
    "import pandas as pd\n",
    "\n",
    "# 1. Load the cleaned dataset\n",
    "df = pd.read_csv('WeatherData_Cleaned.csv')\n",
    "\n",
    "# 2. One-hot encode the 'Weather_Condition' column\n",
    "df_encoded = pd.get_dummies(\n",
    "    df,\n",
    "    columns=['Weather_Condition'],\n",
    "    prefix='Cond'\n",
    ")\n",
    "\n",
    "# 3. Identify and display the new dummy columns for the first 5 rows\n",
    "encoded_cols = [c for c in df_encoded.columns if c.startswith('Cond_')]\n",
    "print(df_encoded.loc[:, encoded_cols].head())\n",
    "\n",
    "# 4. Save the encoded DataFrame\n",
    "df_encoded.to_csv('WeatherData_Encoded.csv', index=False)\n"
   ]
  },
  {
   "cell_type": "code",
   "execution_count": 200,
   "id": "de65f7a0-0ad6-4eb5-a2af-8f3cd9bb54a4",
   "metadata": {},
   "outputs": [
    {
     "data": {
      "text/html": [
       "<div>\n",
       "<style scoped>\n",
       "    .dataframe tbody tr th:only-of-type {\n",
       "        vertical-align: middle;\n",
       "    }\n",
       "\n",
       "    .dataframe tbody tr th {\n",
       "        vertical-align: top;\n",
       "    }\n",
       "\n",
       "    .dataframe thead th {\n",
       "        text-align: right;\n",
       "    }\n",
       "</style>\n",
       "<table border=\"1\" class=\"dataframe\">\n",
       "  <thead>\n",
       "    <tr style=\"text-align: right;\">\n",
       "      <th></th>\n",
       "      <th>Station_ID</th>\n",
       "      <th>Temperature_C</th>\n",
       "      <th>Humidity_%</th>\n",
       "      <th>Wind_Speed_kmh</th>\n",
       "      <th>Precipitation_mm</th>\n",
       "      <th>Cond_Cloudy</th>\n",
       "      <th>Cond_Rainy</th>\n",
       "      <th>Cond_Stormy</th>\n",
       "      <th>Cond_Sunny</th>\n",
       "    </tr>\n",
       "  </thead>\n",
       "  <tbody>\n",
       "    <tr>\n",
       "      <th>0</th>\n",
       "      <td>STN_1</td>\n",
       "      <td>21.60</td>\n",
       "      <td>80.01</td>\n",
       "      <td>43.79</td>\n",
       "      <td>25.21</td>\n",
       "      <td>False</td>\n",
       "      <td>False</td>\n",
       "      <td>True</td>\n",
       "      <td>False</td>\n",
       "    </tr>\n",
       "    <tr>\n",
       "      <th>1</th>\n",
       "      <td>STN_2</td>\n",
       "      <td>17.20</td>\n",
       "      <td>70.50</td>\n",
       "      <td>17.41</td>\n",
       "      <td>8.76</td>\n",
       "      <td>True</td>\n",
       "      <td>False</td>\n",
       "      <td>False</td>\n",
       "      <td>False</td>\n",
       "    </tr>\n",
       "    <tr>\n",
       "      <th>2</th>\n",
       "      <td>STN_3</td>\n",
       "      <td>26.96</td>\n",
       "      <td>53.35</td>\n",
       "      <td>2.12</td>\n",
       "      <td>1.11</td>\n",
       "      <td>False</td>\n",
       "      <td>False</td>\n",
       "      <td>False</td>\n",
       "      <td>True</td>\n",
       "    </tr>\n",
       "    <tr>\n",
       "      <th>3</th>\n",
       "      <td>STN_4</td>\n",
       "      <td>22.14</td>\n",
       "      <td>86.37</td>\n",
       "      <td>12.39</td>\n",
       "      <td>10.25</td>\n",
       "      <td>False</td>\n",
       "      <td>True</td>\n",
       "      <td>False</td>\n",
       "      <td>False</td>\n",
       "    </tr>\n",
       "    <tr>\n",
       "      <th>4</th>\n",
       "      <td>STN_5</td>\n",
       "      <td>12.52</td>\n",
       "      <td>86.81</td>\n",
       "      <td>27.33</td>\n",
       "      <td>23.13</td>\n",
       "      <td>False</td>\n",
       "      <td>False</td>\n",
       "      <td>True</td>\n",
       "      <td>False</td>\n",
       "    </tr>\n",
       "  </tbody>\n",
       "</table>\n",
       "</div>"
      ],
      "text/plain": [
       "  Station_ID  Temperature_C  Humidity_%  Wind_Speed_kmh  Precipitation_mm  \\\n",
       "0      STN_1          21.60       80.01           43.79             25.21   \n",
       "1      STN_2          17.20       70.50           17.41              8.76   \n",
       "2      STN_3          26.96       53.35            2.12              1.11   \n",
       "3      STN_4          22.14       86.37           12.39             10.25   \n",
       "4      STN_5          12.52       86.81           27.33             23.13   \n",
       "\n",
       "   Cond_Cloudy  Cond_Rainy  Cond_Stormy  Cond_Sunny  \n",
       "0        False       False         True       False  \n",
       "1         True       False        False       False  \n",
       "2        False       False        False        True  \n",
       "3        False        True        False       False  \n",
       "4        False       False         True       False  "
      ]
     },
     "execution_count": 200,
     "metadata": {},
     "output_type": "execute_result"
    }
   ],
   "source": [
    "df_encoded.head()"
   ]
  },
  {
   "cell_type": "code",
   "execution_count": 202,
   "id": "ee0e96f7-1757-48cb-b7bd-6e83f61c3b93",
   "metadata": {},
   "outputs": [
    {
     "data": {
      "text/plain": [
       "Index(['Station_ID', 'Temperature_C', 'Humidity_%', 'Wind_Speed_kmh',\n",
       "       'Precipitation_mm', 'Cond_Cloudy', 'Cond_Rainy', 'Cond_Stormy',\n",
       "       'Cond_Sunny'],\n",
       "      dtype='object')"
      ]
     },
     "execution_count": 202,
     "metadata": {},
     "output_type": "execute_result"
    }
   ],
   "source": [
    "df_encoded.columns"
   ]
  },
  {
   "cell_type": "markdown",
   "id": "9e781945-3098-4dcf-87a7-72c6e3f7bdc1",
   "metadata": {},
   "source": [
    "### 8.2 Explanation\n",
    "\n",
    "---\n",
    "\n",
    "* *Loading the Cleaned Data*: The script begins by reading the previously cleaned CSV file (WeatherData_Cleaned.csv) into a pandas DataFrame called df. This ensures you’re working with a dataset that has no missing values and unwanted columns already removed.\n",
    "\n",
    "* *One-Hot Encoding the Weather_Condition Column*\n",
    "\n",
    "*Why one-hot?*: Weather_Condition is a nominal (unordered) categorical variable. Assigning integer labels could introduce a spurious ordinal relationship (e.g. “Sunny” > “Cloudy”).\n",
    "\n",
    "* *One-hot encoding creates a separate binary column for each category, preserving neutrality between levels.*\n",
    "\n",
    "* *How it’s done*:\n",
    "python\n",
    "Copy\n",
    "Edit\n",
    "df_encoded = pd.get_dummies(\n",
    "    df,\n",
    "    columns=['Weather_Condition'],\n",
    "    prefix='Cond'\n",
    ")\n",
    "columns=['Weather_Condition'] tells pandas which column to convert.\n",
    "\n",
    "prefix='Cond' prepends “Cond_” to each new dummy column (e.g. Cond_Sunny, Cond_Rainy).\n",
    "\n",
    "* *Identifying & Displaying the New Dummy Columns*\n",
    "\n",
    "A list comprehension collects all column names that start with \"Cond_\".\n",
    "\n",
    "df_encoded.loc[:, encoded_cols].head() shows the first five rows of these newly created boolean columns, giving a quick sanity check that the encoding has worked correctly.\n",
    "\n",
    "* *Saving the Encoded DataFrame*: Finally, the transformed DataFrame (df_encoded)—now including the one-hot columns—is saved to a new CSV file, WeatherData_Encoded.csv, with row indices omitted (index=False).\n",
    "This file can be directly used in downstream modeling, where most machine-learning algorithms expect numeric inputs."
   ]
  },
  {
   "cell_type": "markdown",
   "id": "4d5fe0b2-35c8-488e-9f52-0219cc2e4ca9",
   "metadata": {},
   "source": [
    "### Question 9:\n",
    "\n",
    "- Apply Min-Max Scaling to all numerical columns, excluding `Station_ID`.\n",
    "- Generate two visualizations:\n",
    "    - Histogram of temperatures before and after scaling.\n",
    "    - Boxplot of wind speed before and after scaling.\n",
    "- Analyze and explain the effect of Min-Max Scaling on the dataset’s distribution."
   ]
  },
  {
   "cell_type": "markdown",
   "id": "fe2c9693-f6d6-4a86-add7-0be269a63946",
   "metadata": {},
   "source": [
    "### 9.1 Code"
   ]
  },
  {
   "cell_type": "code",
   "execution_count": 207,
   "id": "13fa2d6d-e95c-4fa9-94ec-8dd3e7769f0c",
   "metadata": {},
   "outputs": [
    {
     "data": {
      "image/png": "[encoded data removed]",
      "text/plain": [
       "<Figure size 1200x1500 with 6 Axes>"
      ]
     },
     "metadata": {},
     "output_type": "display_data"
    }
   ],
   "source": [
    "import pandas as pd\n",
    "from sklearn.preprocessing import MinMaxScaler\n",
    "import matplotlib.pyplot as plt\n",
    "import seaborn as sns\n",
    "\n",
    "# Use a style for better visuals\n",
    "sns.set_style(\"whitegrid\")\n",
    "\n",
    "# 1. Load the cleaned dataset\n",
    "df = pd.read_csv('WeatherData_Cleaned.csv')\n",
    "\n",
    "# 2. Identify numeric columns (drop Station_ID if present)\n",
    "numeric_cols = (\n",
    "  df.select_dtypes(include='number')\n",
    "    .drop(columns=['Station_ID'], errors='ignore')\n",
    "    .columns\n",
    ")\n",
    "\n",
    "# 3. Backup original series\n",
    "temps_orig = df['Temperature_C']\n",
    "wind_orig  = df['Wind_Speed_kmh']\n",
    "\n",
    "# 4. Scale all numeric features with Min–Max\n",
    "scaler = MinMaxScaler()\n",
    "df_scaled = df.copy()\n",
    "df_scaled[numeric_cols] = scaler.fit_transform(df[numeric_cols])\n",
    "\n",
    "# 5. Extract the scaled series\n",
    "temps_scaled = df_scaled['Temperature_C']\n",
    "wind_scaled  = df_scaled['Wind_Speed_kmh']\n",
    "\n",
    "# 6. Create a 3x2 grid of plots:\n",
    "fig, axes = plt.subplots(3, 2, figsize=(12, 15))\n",
    "\n",
    "# Row 0: Histograms for Temperature\n",
    "axes[0, 0].hist(temps_orig, bins=30, color='skyblue', alpha=0.7)\n",
    "axes[0, 0].set(title='Temperature — Original (Histogram)', xlabel='°C', ylabel='Frequency')\n",
    "\n",
    "axes[0, 1].hist(temps_scaled, bins=30, color='salmon', alpha=0.7)\n",
    "axes[0, 1].set(title='Temperature — Scaled (Histogram)', xlabel='Scaled Value', ylabel='Frequency')\n",
    "\n",
    "# Row 1: KDE plots for Temperature\n",
    "sns.kdeplot(temps_orig, ax=axes[1, 0], fill=True, color='skyblue')\n",
    "axes[1, 0].set(title='Temperature — Original (KDE)', xlabel='°C')\n",
    "\n",
    "sns.kdeplot(temps_scaled, ax=axes[1, 1], fill=True, color='salmon')\n",
    "axes[1, 1].set(title='Temperature — Scaled (KDE)', xlabel='Scaled Value')\n",
    "\n",
    "# Row 2: Boxplots for Wind Speed\n",
    "sns.boxplot(x=wind_orig, ax=axes[2, 0], color='lightgreen')\n",
    "axes[2, 0].set(title='Wind Speed — Original (Boxplot)', xlabel='km/h')\n",
    "\n",
    "sns.boxplot(x=wind_scaled, ax=axes[2, 1], color='violet')\n",
    "axes[2, 1].set(title='Wind Speed — Scaled (Boxplot)', xlabel='Scaled Value')\n",
    "\n",
    "plt.tight_layout()\n",
    "plt.show()\n"
   ]
  },
  {
   "cell_type": "markdown",
   "id": "bf655028-480f-429f-91b1-d7a59dee243b",
   "metadata": {},
   "source": [
    "### 9.2 Qualitative Comparison: Original vs. Min–Max Scaled Features\n",
    "---\n",
    "***Temperature Histograms***\n",
    "\n",
    "* *Value Range*\n",
    "\n",
    "* *Original*: Spans the true Celsius scale (roughly –10 °C to 50 °C).\n",
    "\n",
    "* *Scaled*: Maps that same distribution into the [0, 1] interval, collapsing absolute units but preserving every data point’s relative standing.\n",
    "\n",
    "* *Distributional Shape* Both versions exhibit the same peaks, skewness, and multimodal structure—only the numerical axis shifts from real-world degrees to a normalized scale.\n",
    "\n",
    "* *Wind Speed Boxplots*\n",
    "\n",
    " * *Spread & Quantiles*\n",
    " * *Original*: Boxplot reflects km/h spread—median, IQR, whiskers, and outliers at their true magnitudes.\n",
    "\n",
    " * *Scaled*: Those same quantiles are resituated between 0 and 1, so the box’s shape and the order of outliers remain identical, but the   physical distances (e.g., how many km/h between whiskers and extremes) are no longer visible.\n",
    "\n",
    "* *Outlier Hierarchy*\n",
    "\n",
    "Both plots rank the most extreme values correctly; however, only the original version conveys how far those outliers lie from the bulk of the data in real units.\n",
    "\n",
    "* *Key Takeaways*\n",
    "\n",
    "* *Modeling Advantage*: Min–Max scaling aligns heterogeneous features onto a common numeric range, which often improves convergence and stability for algorithms (especially those relying on gradient descent).\n",
    "\n",
    "* *Interpretability Trade-off*: While the normalization fully preserves each feature’s shape—skew, modality, and relative outlier ranking—it sacrifices direct interpretability of the original units.\n",
    "\n",
    "* *Practical Guidance*: Use Min–Max when your model benefits from uniform feature scales, but retain or archive the original data if you’ll need to report or reason about actual temperatures (°C) or wind speeds (km/h) later."
   ]
  }
 ],
 "metadata": {
  "kernelspec": {
   "display_name": "Python 3 (ipykernel)",
   "language": "python",
   "name": "python3"
  },
  "language_info": {
   "codemirror_mode": {
    "name": "ipython",
    "version": 3
   },
   "file_extension": ".py",
   "mimetype": "text/x-python",
   "name": "python",
   "nbconvert_exporter": "python",
   "pygments_lexer": "ipython3",
   "version": "3.12.7"
  }
 },
 "nbformat": 4,
 "nbformat_minor": 5
}
